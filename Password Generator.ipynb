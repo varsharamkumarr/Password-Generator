{
 "cells": [
  {
   "cell_type": "code",
   "execution_count": 1,
   "id": "7f992f95-02ef-4b7a-afea-d5d7a3343e2e",
   "metadata": {},
   "outputs": [],
   "source": [
    "import random\n",
    "import string\n",
    "import tkinter as tk\n",
    "from tkinter import messagebox"
   ]
  },
  {
   "cell_type": "code",
   "execution_count": 2,
   "id": "d8be445c-3529-4576-8d0a-39f20d1c6af2",
   "metadata": {},
   "outputs": [],
   "source": [
    "def generate_password():\n",
    "    try:\n",
    "        length = int(length_entry.get())\n",
    "        if 8 <= length <= 16:\n",
    "            include_lowercase = lowercase_var.get()\n",
    "            include_uppercase = uppercase_var.get()\n",
    "            include_digits = digits_var.get()\n",
    "            include_symbols = symbols_var.get()\n",
    "\n",
    "            character_sets = []\n",
    "            if include_lowercase:\n",
    "                character_sets.append(string.ascii_lowercase)\n",
    "            if include_uppercase:\n",
    "                character_sets.append(string.ascii_uppercase)\n",
    "            if include_digits:\n",
    "                character_sets.append(string.digits)\n",
    "            if include_symbols:\n",
    "                character_sets.append(string.punctuation)\n",
    "\n",
    "            if not any(character_sets):\n",
    "                messagebox.showerror(\"Error\", \"Please select at least one character set.\")\n",
    "                return\n",
    "\n",
    "            all_chars = ''.join(character_sets)\n",
    "\n",
    "            password = ''.join(random.choice(all_chars) for _ in range(length))\n",
    "            password_entry.delete(0, tk.END)\n",
    "            password_entry.insert(0, password)\n",
    "        else:\n",
    "            messagebox.showerror(\"Error\", \"Password length must be between 8 and 16 characters.\")\n",
    "    except ValueError:\n",
    "        messagebox.showerror(\"Error\", \"Please enter a valid number for password length.\")\n"
   ]
  },
  {
   "cell_type": "code",
   "execution_count": 3,
   "id": "e17ffd24-bb14-4db5-8d7a-e440f41c9edb",
   "metadata": {},
   "outputs": [],
   "source": [
    "def copy_to_clipboard():\n",
    "    generated_password = password_entry.get()\n",
    "    if generated_password:\n",
    "        root.clipboard_clear()\n",
    "        root.clipboard_append(generated_password)\n",
    "        root.update()\n",
    "        messagebox.showinfo(\"Success\", \"Password copied to clipboard.\")\n",
    "    else:\n",
    "        messagebox.showerror(\"Error\", \"No password generated.\")\n"
   ]
  },
  {
   "cell_type": "code",
   "execution_count": 4,
   "id": "9ade1f14-f14b-4ea5-b583-9c0dc9beabe5",
   "metadata": {},
   "outputs": [
    {
     "data": {
      "text/plain": [
       "''"
      ]
     },
     "execution_count": 4,
     "metadata": {},
     "output_type": "execute_result"
    }
   ],
   "source": [
    "root = tk.Tk()\n",
    "root.title(\"Password Generator\")"
   ]
  },
  {
   "cell_type": "code",
   "execution_count": 5,
   "id": "71401605-df8e-4812-9873-297e402ce4fe",
   "metadata": {},
   "outputs": [],
   "source": [
    "# Labels and input fields\n",
    "length_label = tk.Label(root, text=\"Password Length:\")\n",
    "length_label.grid(row=0, column=0, padx=10, pady=5, sticky=tk.W)\n",
    "\n",
    "length_entry = tk.Entry(root)\n",
    "length_entry.grid(row=0, column=1, padx=10, pady=5)\n",
    "\n",
    "# Checkboxes for character sets\n",
    "lowercase_var = tk.BooleanVar()\n",
    "lowercase_check = tk.Checkbutton(root, text=\"Include Lowercase Letters\", variable=lowercase_var)\n",
    "lowercase_check.grid(row=1, column=0, columnspan=2, padx=10, pady=5, sticky=tk.W)\n",
    "\n",
    "uppercase_var = tk.BooleanVar()\n",
    "uppercase_check = tk.Checkbutton(root, text=\"Include Uppercase Letters\", variable=uppercase_var)\n",
    "uppercase_check.grid(row=2, column=0, columnspan=2, padx=10, pady=5, sticky=tk.W)\n",
    "\n",
    "digits_var = tk.BooleanVar()\n",
    "digits_check = tk.Checkbutton(root, text=\"Include Digits\", variable=digits_var)\n",
    "digits_check.grid(row=3, column=0, columnspan=2, padx=10, pady=5, sticky=tk.W)\n",
    "\n",
    "symbols_var = tk.BooleanVar()\n",
    "symbols_check = tk.Checkbutton(root, text=\"Include Symbols\", variable=symbols_var)\n",
    "symbols_check.grid(row=4, column=0, columnspan=2, padx=10, pady=5, sticky=tk.W)\n",
    "\n",
    "# Button for password generation\n",
    "generate_button = tk.Button(root, text=\"Generate Password\", command=generate_password)\n",
    "generate_button.grid(row=5, column=0, columnspan=2, padx=10, pady=10)\n",
    "\n",
    "# Entry field for displaying generated password\n",
    "password_entry = tk.Entry(root, width=30)\n",
    "password_entry.grid(row=6, column=0, columnspan=2, padx=10, pady=5)\n",
    "\n",
    "# Button for copying password to clipboard\n",
    "copy_button = tk.Button(root, text=\"Copy to Clipboard\", command=copy_to_clipboard)\n",
    "copy_button.grid(row=7, column=0, columnspan=2, padx=10, pady=10)\n"
   ]
  },
  {
   "cell_type": "code",
   "execution_count": null,
   "id": "4447fdff-ee14-4526-9ba9-bc89746a7e4d",
   "metadata": {},
   "outputs": [],
   "source": [
    "root.mainloop()"
   ]
  }
 ],
 "metadata": {
  "kernelspec": {
   "display_name": "Python 3 (ipykernel)",
   "language": "python",
   "name": "python3"
  },
  "language_info": {
   "codemirror_mode": {
    "name": "ipython",
    "version": 3
   },
   "file_extension": ".py",
   "mimetype": "text/x-python",
   "name": "python",
   "nbconvert_exporter": "python",
   "pygments_lexer": "ipython3",
   "version": "3.8.18"
  }
 },
 "nbformat": 4,
 "nbformat_minor": 5
}
